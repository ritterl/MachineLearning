{
  "nbformat": 4,
  "nbformat_minor": 0,
  "metadata": {
    "colab": {
      "name": "Chapter10.ipynb",
      "provenance": [],
      "authorship_tag": "ABX9TyOo+0ZYZvaUpKwi1kLAZRBO",
      "include_colab_link": true
    },
    "kernelspec": {
      "name": "python3",
      "display_name": "Python 3"
    }
  },
  "cells": [
    {
      "cell_type": "markdown",
      "metadata": {
        "id": "view-in-github",
        "colab_type": "text"
      },
      "source": [
        "<a href=\"https://colab.research.google.com/github/ritterl/MachineLearning/blob/master/Chapter10.ipynb\" target=\"_parent\"><img src=\"https://colab.research.google.com/assets/colab-badge.svg\" alt=\"Open In Colab\"/></a>"
      ]
    },
    {
      "cell_type": "code",
      "metadata": {
        "id": "taYEBN2b6j-k",
        "colab_type": "code",
        "colab": {}
      },
      "source": [
        "%load_ext rpy2.ipython"
      ],
      "execution_count": 0,
      "outputs": []
    },
    {
      "cell_type": "markdown",
      "metadata": {
        "id": "Pstxqq-xHwr6",
        "colab_type": "text"
      },
      "source": [
        "# Introduction"
      ]
    },
    {
      "cell_type": "markdown",
      "metadata": {
        "id": "8WCzthDOqLQz",
        "colab_type": "text"
      },
      "source": [
        "In this notebook, chapter 10 of [Machine Learning](https://www.amazon.de/Machine-Learning-techniques-predictive-modeling-ebook/dp/B07PYXX3H5) with R is summarized and the code samples are described. This section of the book serves to show how machine learning algorithms can be evaluated. More precisely, it gives reasons why also other measures than predictive accuracy are needed to assess performance. Further, approaches to ensure that the performance measures reasonably reflect a model's ability to predict or forecast unseen cases are provided. "
      ]
    },
    {
      "cell_type": "markdown",
      "metadata": {
        "id": "3QsUZ7XTyJp0",
        "colab_type": "text"
      },
      "source": [
        "By simply dividing the number of correct predictions by the total number of predictions, a wrong picture about the performance of the classifier may occur. This especially arises in datasets with a large class imbalance and is also referred to as **class imbalance problem**. For instance, a positive event occurs very often (in say 99% of the cases), a model which predicts always a positive case has an accuracy of 99%. However, it is not useful for predicting the negative cases. "
      ]
    },
    {
      "cell_type": "markdown",
      "metadata": {
        "id": "_oVcK8pQMxpJ",
        "colab_type": "text"
      },
      "source": [
        "Besides the two important data types: **actual class values** and **predicted class values** which are obvious, however, the majority of models can deliver another important type of information: the **estimated probability of the prediction** or in other words the confidence of the model about a particular decision. So, when comparing two models with the same number of mistakes, it is possible to say that the one which makes better assessments regarding its uncertainty is smarter."
      ]
    },
    {
      "cell_type": "markdown",
      "metadata": {
        "id": "jkLp-x-fjC42",
        "colab_type": "text"
      },
      "source": [
        "First of all, the predicted probabilities from the SMS model developed in chapter 4 of the book are drawn. Therefore, it is important to note that the code of chapter 4 needs to be executed prior to this section. In this example, the `predict() `function gives the probability for each possible outcome. Each line of the following output sums up to 1 due to the fact that these are mutually exclusive and exhaustive events. In other words: An SMS can only either be \"ham\" or \"spam\", but not both at the same time and it cannot be something else or something in between. "
      ]
    },
    {
      "cell_type": "markdown",
      "metadata": {
        "id": "ge6rq4Jvn6SS",
        "colab_type": "text"
      },
      "source": [
        "In a next step, the results are combined into a data frame. (Do I even need line 10 - 19 if I have the csv-file sms_results already? --> no!)"
      ]
    },
    {
      "cell_type": "code",
      "metadata": {
        "id": "hsiYmbmr19ZJ",
        "colab_type": "code",
        "colab": {}
      },
      "source": [
        "%%R\n",
        "sms_classifier <- load(\"sms_classifier.RData\")\n",
        "install.packages(\"tm\")\n",
        "library(tm)\n"
      ],
      "execution_count": 0,
      "outputs": []
    },
    {
      "cell_type": "code",
      "metadata": {
        "id": "79dLLy_C1zcb",
        "colab_type": "code",
        "outputId": "1489c66b-fe1a-483f-b4a4-e03a1abc8267",
        "colab": {
          "base_uri": "https://localhost:8080/",
          "height": 153
        }
      },
      "source": [
        "%%R\n",
        "# obtain the predicted probabilities\n",
        "sms_test_prob <- predict(sms_classifier, sms_test, type = \"raw\")\n",
        "head(sms_test_prob)"
      ],
      "execution_count": 0,
      "outputs": [
        {
          "output_type": "stream",
          "text": [
            "R[write to console]: Error in UseMethod(\"predict\") : \n",
            "  no applicable method for 'predict' applied to an object of class \"character\"\n",
            "Calls: <Anonymous> -> <Anonymous> -> withVisible -> predict\n",
            "\n"
          ],
          "name": "stderr"
        },
        {
          "output_type": "stream",
          "text": [
            "\n",
            "Error in UseMethod(\"predict\") : \n",
            "  no applicable method for 'predict' applied to an object of class \"character\"\n",
            "Calls: <Anonymous> -> <Anonymous> -> withVisible -> predict\n"
          ],
          "name": "stdout"
        }
      ]
    },
    {
      "cell_type": "code",
      "metadata": {
        "id": "QyDcxbFy5_r3",
        "colab_type": "code",
        "colab": {}
      },
      "source": [
        "%%R\n",
        "## Confusion matrices in R ----\n",
        "sms_results <- read.csv(\"sms_results.csv\")"
      ],
      "execution_count": 0,
      "outputs": []
    },
    {
      "cell_type": "markdown",
      "metadata": {
        "id": "dMLR4-B-6Z8A",
        "colab_type": "text"
      },
      "source": [
        "In this step a first glimpse into the sms_results is made. It shows the actual type as well as the predicted type on the LHS and on the RHS the probability (estimated by the model) of the object being either spam or ham. As it can be observed, the model was extremely certain about its decisions. "
      ]
    },
    {
      "cell_type": "code",
      "metadata": {
        "id": "Of_z3MFw1h4b",
        "colab_type": "code",
        "outputId": "8053ecc1-b600-4410-8567-89c8cfdc2d5a",
        "colab": {
          "base_uri": "https://localhost:8080/",
          "height": 136
        }
      },
      "source": [
        "%%R\n",
        "# the first several test cases\n",
        "head(sms_results)"
      ],
      "execution_count": 0,
      "outputs": [
        {
          "output_type": "stream",
          "text": [
            "  actual_type predict_type prob_spam prob_ham\n",
            "1         ham          ham   0.00000  1.00000\n",
            "2         ham          ham   0.00000  1.00000\n",
            "3         ham          ham   0.00016  0.99984\n",
            "4         ham          ham   0.00004  0.99996\n",
            "5        spam         spam   1.00000  0.00000\n",
            "6         ham          ham   0.00020  0.99980\n"
          ],
          "name": "stdout"
        }
      ]
    },
    {
      "cell_type": "markdown",
      "metadata": {
        "id": "jS4f7LPw7D-d",
        "colab_type": "text"
      },
      "source": [
        "In the previous cases, the model was very confident, but of course, there are also other cases in which the model was unconfident about its decision."
      ]
    },
    {
      "cell_type": "code",
      "metadata": {
        "id": "bi3RI3Er8BSn",
        "colab_type": "code",
        "outputId": "3ba266b8-0ef4-4843-f0a3-eaacf14f8277",
        "colab": {
          "base_uri": "https://localhost:8080/",
          "height": 85
        }
      },
      "source": [
        "%%R\n",
        "head(subset(sms_results, prob_spam > 0.40 & prob_spam < 0.60))"
      ],
      "execution_count": 0,
      "outputs": [
        {
          "output_type": "stream",
          "text": [
            "     actual_type predict_type prob_spam prob_ham\n",
            "377         spam          ham   0.47536  0.52464\n",
            "717          ham         spam   0.56188  0.43812\n",
            "1311         ham         spam   0.57917  0.42083\n"
          ],
          "name": "stdout"
        }
      ]
    },
    {
      "cell_type": "code",
      "metadata": {
        "id": "PNTw5YZH8WFE",
        "colab_type": "code",
        "outputId": "1a145a14-863f-4555-9689-98047868c1b8",
        "colab": {
          "base_uri": "https://localhost:8080/",
          "height": 136
        }
      },
      "source": [
        "%%R\n",
        "head(subset(sms_results, actual_type != predict_type))"
      ],
      "execution_count": 0,
      "outputs": [
        {
          "output_type": "stream",
          "text": [
            "    actual_type predict_type prob_spam prob_ham\n",
            "53         spam          ham   0.00071  0.99929\n",
            "59         spam          ham   0.00156  0.99844\n",
            "73         spam          ham   0.01708  0.98292\n",
            "76         spam          ham   0.00851  0.99149\n",
            "184        spam          ham   0.01243  0.98757\n",
            "332        spam          ham   0.00003  0.99997\n"
          ],
          "name": "stdout"
        }
      ]
    },
    {
      "cell_type": "markdown",
      "metadata": {
        "id": "YqwfFpvv8hor",
        "colab_type": "text"
      },
      "source": [
        "Especially in these cases the question can be posed, whether the model is useful or not. "
      ]
    },
    {
      "cell_type": "markdown",
      "metadata": {
        "id": "FD6Dz6QhUp73",
        "colab_type": "text"
      },
      "source": [
        "In the next passage **confusion matrices** will be introduced. A confusion matrix has two dimensions. One dimension displays the actual values (rows) and the other dimension displays the predicted values (columns). In the diagonal cells the model predicted the actual value correct and in the off-diagonal cells the predictions were incorrect. In R a confusion matrix can be created with the `table()` function\n",
        "\n",
        "\n"
      ]
    },
    {
      "cell_type": "code",
      "metadata": {
        "id": "UPBevmrmUqMk",
        "colab_type": "code",
        "outputId": "7b578e4d-50ee-4d11-8d37-64060243c747",
        "colab": {
          "base_uri": "https://localhost:8080/",
          "height": 85
        }
      },
      "source": [
        "%%R\n",
        "table(sms_results$actual_type, sms_results$predict_type)"
      ],
      "execution_count": 0,
      "outputs": [
        {
          "output_type": "stream",
          "text": [
            "      \n",
            "        ham spam\n",
            "  ham  1203    4\n",
            "  spam   31  152\n"
          ],
          "name": "stdout"
        }
      ]
    },
    {
      "cell_type": "markdown",
      "metadata": {
        "id": "Ms1X6hsAX6II",
        "colab_type": "text"
      },
      "source": [
        "With the introduction of confusion matrices, also a new terminology needs to be implemented, whereas first of all the class of interest needs to be defined. In the ham/spam example, \"spam\" is referred to as the **positive class**, since the spam-filter is interested in finding spam messages. Consequently, the **negative class** are the ham messages. It should be obvious that positive and negative are not related with \"good and bad\", but solely needed to distinguish between the different classes. \n",
        "However, now it is possible to implement this terminology in the confusion matrix. \n",
        "- predicted spam / actual spam = True positive (TP -> 152)\n",
        "- predicted ham / acutal ham = True negative (TN -> 1203)\n",
        "- predicted spam / actual ham = False positive (FP -> 4)\n",
        "- predicted ham / actual spam = False negative (FN -> 31)\n",
        "\n",
        "\n"
      ]
    },
    {
      "cell_type": "markdown",
      "metadata": {
        "id": "rXdgbW19iWvR",
        "colab_type": "text"
      },
      "source": [
        "Confusion matrices are a helpful tool to measure performance. For instance, the accuracy can easily be calculated as following: accuracy = (TP + TN)/(TP + TN + FP + FN). Also the error rate is very simple to calculate: error rate = (FP + FN)/(TP + TN + FP + FN) = 1 - accuracy."
      ]
    },
    {
      "cell_type": "markdown",
      "metadata": {
        "id": "RFQx_hKYlLwq",
        "colab_type": "text"
      },
      "source": [
        "Besides the previous confusion matrix which contains no additional information, it is also possible to create a matrix with more informative value using the `CrossTable()` function. \n",
        "\n"
      ]
    },
    {
      "cell_type": "code",
      "metadata": {
        "id": "LYtbgZhYliL9",
        "colab_type": "code",
        "outputId": "f7e5cbe7-b4e4-449e-fd5d-51d282773de9",
        "colab": {
          "base_uri": "https://localhost:8080/",
          "height": 139
        }
      },
      "source": [
        "%%R\n",
        "# using the CrossTable function\n",
        "install.packages(\"gmodels\")\n",
        "library(gmodels)\n",
        "CrossTable(sms_results$actual_type, sms_results$predict_type)"
      ],
      "execution_count": 0,
      "outputs": [
        {
          "output_type": "stream",
          "text": [
            "R[write to console]: Error in library(gmodels) : there is no package called ‘gmodels’\n",
            "Calls: <Anonymous> -> <Anonymous> -> withVisible -> library\n",
            "\n"
          ],
          "name": "stderr"
        },
        {
          "output_type": "stream",
          "text": [
            "\n",
            "Error in library(gmodels) : there is no package called ‘gmodels’\n",
            "Calls: <Anonymous> -> <Anonymous> -> withVisible -> library\n"
          ],
          "name": "stdout"
        }
      ]
    },
    {
      "cell_type": "code",
      "metadata": {
        "id": "EHKLsC55mgqU",
        "colab_type": "code",
        "outputId": "f73942f7-be96-4ad3-a2cd-6165f3718949",
        "colab": {
          "base_uri": "https://localhost:8080/",
          "height": 34
        }
      },
      "source": [
        "%%R\n",
        "# accuracy and error rate calculation --\n",
        "# accuracy\n",
        "(152 + 1203) / (152 + 1203 + 4 + 31)\n"
      ],
      "execution_count": 0,
      "outputs": [
        {
          "output_type": "stream",
          "text": [
            "[1] 0.9748201\n"
          ],
          "name": "stdout"
        }
      ]
    },
    {
      "cell_type": "code",
      "metadata": {
        "id": "LToQdMHAmy5B",
        "colab_type": "code",
        "outputId": "958b1f64-45a9-4643-8300-810763326781",
        "colab": {
          "base_uri": "https://localhost:8080/",
          "height": 34
        }
      },
      "source": [
        "# error rate\n",
        "(4 + 31) / (152 + 1203 + 4 + 31)\n",
        "# error rate = 1 - accuracy\n",
        "1 - 0.9748201"
      ],
      "execution_count": 0,
      "outputs": [
        {
          "output_type": "execute_result",
          "data": {
            "text/plain": [
              "0.025179900000000033"
            ]
          },
          "metadata": {
            "tags": []
          },
          "execution_count": 7
        }
      ]
    },
    {
      "cell_type": "markdown",
      "metadata": {
        "id": "r82DKA72n_QL",
        "colab_type": "text"
      },
      "source": [
        "In the following section alternative performance measures will be shown. For this purpose, the `caret` package developed by Max Kuhn is required. The syntax is close to the `table()` but with a slight distinction. It is required to define the positive class (as described above), since `caret` evaluates performance based on the ability to classify the positive (spam) class. "
      ]
    },
    {
      "cell_type": "code",
      "metadata": {
        "id": "0lmciVMVr2G_",
        "colab_type": "code",
        "outputId": "cc8bb69f-908d-4963-cc95-2714e4f37e7b",
        "colab": {
          "base_uri": "https://localhost:8080/",
          "height": 476
        }
      },
      "source": [
        "%%R\n",
        "#install.packages(\"caret\")\n",
        "#install.packages(\"e1071\")\n",
        "library(caret)\n",
        "confusionMatrix(sms_results$predict_type, sms_results$actual_type, positive = \"spam\")\n"
      ],
      "execution_count": 0,
      "outputs": [
        {
          "output_type": "stream",
          "text": [
            "Confusion Matrix and Statistics\n",
            "\n",
            "          Reference\n",
            "Prediction  ham spam\n",
            "      ham  1203   31\n",
            "      spam    4  152\n",
            "                                          \n",
            "               Accuracy : 0.9748          \n",
            "                 95% CI : (0.9652, 0.9824)\n",
            "    No Information Rate : 0.8683          \n",
            "    P-Value [Acc > NIR] : < 2.2e-16       \n",
            "                                          \n",
            "                  Kappa : 0.8825          \n",
            "                                          \n",
            " Mcnemar's Test P-Value : 1.109e-05       \n",
            "                                          \n",
            "            Sensitivity : 0.8306          \n",
            "            Specificity : 0.9967          \n",
            "         Pos Pred Value : 0.9744          \n",
            "         Neg Pred Value : 0.9749          \n",
            "             Prevalence : 0.1317          \n",
            "         Detection Rate : 0.1094          \n",
            "   Detection Prevalence : 0.1122          \n",
            "      Balanced Accuracy : 0.9136          \n",
            "                                          \n",
            "       'Positive' Class : spam            \n",
            "                                          \n"
          ],
          "name": "stdout"
        }
      ]
    },
    {
      "cell_type": "markdown",
      "metadata": {
        "id": "ejqzGCIbuBX8",
        "colab_type": "text"
      },
      "source": [
        "From this output, especially the **Kappa statistic** (range from 0 to 1) is interesting, since it adjusts the accuracy of a model by taking into account correct predictions by chance. When taking the introductory example with the class imbalance problem and a model which always predicts \"positive\", the Kappa statistic would reveal the weakness of this model. Hence, only classifiers which are more often correct than \"correct predictions by chance\" are rewarded by Kappa. The formula for kappa is the following: \n",
        "(Pr(a) - Pr(e))/(1-Pr(e)), where Pr(a) represents the proportion of actual agreement and Pr(e) represents the expected agreement (between the classifier and the true values)."
      ]
    },
    {
      "cell_type": "markdown",
      "metadata": {
        "id": "S29AR1W3SO7t",
        "colab_type": "text"
      },
      "source": [
        "In order to compute the observed agreement simply the proportion of the TP's and TN's must be summed up, which is again the already known measure \"accuracy\". The data can be taken from the `CrossTable()` above. "
      ]
    },
    {
      "cell_type": "code",
      "metadata": {
        "id": "i5rCmKL-SNsI",
        "colab_type": "code",
        "outputId": "77eb6ed3-32f7-48a3-bc22-ff882fb38069",
        "colab": {
          "base_uri": "https://localhost:8080/",
          "height": 34
        }
      },
      "source": [
        "%%R\n",
        "# example using SMS classifier\n",
        "pr_a <- 0.865 + 0.109\n",
        "pr_a"
      ],
      "execution_count": 0,
      "outputs": [
        {
          "output_type": "stream",
          "text": [
            "[1] 0.974\n"
          ],
          "name": "stdout"
        }
      ]
    },
    {
      "cell_type": "markdown",
      "metadata": {
        "id": "3oQnhovMT7xz",
        "colab_type": "text"
      },
      "source": [
        "The calculation for Pr(e) is a bit more complicated. First of all, it is noteworthy that the following calculation holds only under the assumption that the events are **independent** from each other. Following this assumption, it is possible to apply a probability rule which says that the probability of both occuring is nothing else than the product of the probabilities.\n",
        "- Pr(actual_type is ham)*Pr(predicted_type is ham)\n",
        "-Pr(actual_type is spam)*Pr(predicted_type is spam). Again, these probabilites can be found in the `CrossTable()`.\n",
        "Finally, Pr(e) is the sum of the probabilities that the predicted and actual values agree. This is possible because the two events are mutually exlcusive (a SMS can either be ham or spam but there is no intersection)."
      ]
    },
    {
      "cell_type": "code",
      "metadata": {
        "id": "P3vzlM-BWZOY",
        "colab_type": "code",
        "outputId": "9a473196-87ad-474e-e809-79f1517ca3d3",
        "colab": {
          "base_uri": "https://localhost:8080/",
          "height": 34
        }
      },
      "source": [
        "%%R\n",
        "pr_e <- 0.868 * 0.888 + 0.132 * 0.112\n",
        "pr_e"
      ],
      "execution_count": 0,
      "outputs": [
        {
          "output_type": "stream",
          "text": [
            "[1] 0.785568\n"
          ],
          "name": "stdout"
        }
      ]
    },
    {
      "cell_type": "markdown",
      "metadata": {
        "id": "l9DKTB3MXIvE",
        "colab_type": "text"
      },
      "source": [
        "Applying the pre-defined formular for Kappa leads to: "
      ]
    },
    {
      "cell_type": "code",
      "metadata": {
        "id": "Sb3g9eIoXNtr",
        "colab_type": "code",
        "outputId": "f764e776-0970-4e19-fd25-9d84f7788f52",
        "colab": {
          "base_uri": "https://localhost:8080/",
          "height": 34
        }
      },
      "source": [
        "%%R\n",
        "k <- (pr_a - pr_e) / (1 - pr_e)\n",
        "k\n"
      ],
      "execution_count": 0,
      "outputs": [
        {
          "output_type": "stream",
          "text": [
            "[1] 0.8787494\n"
          ],
          "name": "stdout"
        }
      ]
    },
    {
      "cell_type": "markdown",
      "metadata": {
        "id": "FIkPJY08Xptm",
        "colab_type": "text"
      },
      "source": [
        "which is in line with the result generated by the `confusionMatrix()` before. However, there are also other possibilities to obtain R which will not be explained in detail at this point."
      ]
    },
    {
      "cell_type": "code",
      "metadata": {
        "id": "avEeExw3YPhL",
        "colab_type": "code",
        "outputId": "1d50efa0-ff8b-406b-e69f-621e68f8eae9",
        "colab": {
          "base_uri": "https://localhost:8080/",
          "height": 68
        }
      },
      "source": [
        "%%R\n",
        "# calculate kappa via the vcd package\n",
        "#install.packages(\"vcd\")\n",
        "library(vcd)\n",
        "Kappa(table(sms_results$actual_type, sms_results$predict_type))"
      ],
      "execution_count": 0,
      "outputs": [
        {
          "output_type": "stream",
          "text": [
            "            value     ASE     z Pr(>|z|)\n",
            "Unweighted 0.8825 0.01949 45.27        0\n",
            "Weighted   0.8825 0.01949 45.27        0\n"
          ],
          "name": "stdout"
        }
      ]
    },
    {
      "cell_type": "code",
      "metadata": {
        "id": "yp3DNuJDYcQE",
        "colab_type": "code",
        "outputId": "34faaa67-84fe-40ab-d1f5-935b6c54f858",
        "colab": {
          "base_uri": "https://localhost:8080/",
          "height": 153
        }
      },
      "source": [
        "%%R\n",
        "# calculate kappa via the irr package\n",
        "#install.packages(\"irr\")\n",
        "library(irr)\n",
        "kappa2(sms_results[1:2])"
      ],
      "execution_count": 0,
      "outputs": [
        {
          "output_type": "stream",
          "text": [
            " Cohen's Kappa for 2 Raters (Weights: unweighted)\n",
            "\n",
            " Subjects = 1390 \n",
            "   Raters = 2 \n",
            "    Kappa = 0.883 \n",
            "\n",
            "        z = 33 \n",
            "  p-value = 0 \n"
          ],
          "name": "stdout"
        }
      ]
    },
    {
      "cell_type": "markdown",
      "metadata": {
        "id": "Zrwtoh0xa267",
        "colab_type": "text"
      },
      "source": [
        "In the next section, two very important measures will be introduced, sensitivity and specificity. These two are important to find a balanced model which is neither too conservative nor too aggressive. When taking the SMS example: On the one hand, this means that the model should not classify almost every single SMS (specificity) as spam and on the other hand, it should not allow too many spam SMS getting through the filter (sensitivity). It is apparent that these two goals can be considered a tradeoff. Therefore, it is important to decide, which measure is more relevant. With the SMS example, it can be said that it is worse if a ham SMS is deleted because it is considered as spam than if a spam SMS is not deleted and it ends up in the inbox. "
      ]
    },
    {
      "cell_type": "markdown",
      "metadata": {
        "id": "w-KBQLhem4Dr",
        "colab_type": "text"
      },
      "source": [
        "The sensitivity is also referred to as true positive rate and is calculated as following: sensitivity = TP / (TP + FN). Using the numbers of the confusion matrix:"
      ]
    },
    {
      "cell_type": "code",
      "metadata": {
        "id": "tN2-Yg7jpHTk",
        "colab_type": "code",
        "outputId": "16f44b26-93b0-4e9b-8d70-807c3bda5f54",
        "colab": {
          "base_uri": "https://localhost:8080/",
          "height": 34
        }
      },
      "source": [
        "%%R\n",
        "sens <- 152 / (152 + 31)\n",
        "sens"
      ],
      "execution_count": 0,
      "outputs": [
        {
          "output_type": "stream",
          "text": [
            "[1] 0.8306011\n"
          ],
          "name": "stdout"
        }
      ]
    },
    {
      "cell_type": "markdown",
      "metadata": {
        "id": "RnJWsbVcpiV1",
        "colab_type": "text"
      },
      "source": [
        "In contrast, the specificity is also referred to as true negative rate and is calculated as following: specificity = TN / (TN + FP). Using the numbers of the confusion matrix:"
      ]
    },
    {
      "cell_type": "code",
      "metadata": {
        "id": "y-mZwER6qaZa",
        "colab_type": "code",
        "outputId": "ce7a2675-5308-4356-8a66-ba4d543659da",
        "colab": {
          "base_uri": "https://localhost:8080/",
          "height": 34
        }
      },
      "source": [
        "%%R\n",
        "spec <- 1203 / (1203 + 4)\n",
        "spec"
      ],
      "execution_count": 0,
      "outputs": [
        {
          "output_type": "stream",
          "text": [
            "[1] 0.996686\n"
          ],
          "name": "stdout"
        }
      ]
    },
    {
      "cell_type": "markdown",
      "metadata": {
        "id": "1Ee5Tgrxqp7t",
        "colab_type": "text"
      },
      "source": [
        "It is also possible to calculate the measures directly with the aid of the `caret` package. "
      ]
    },
    {
      "cell_type": "code",
      "metadata": {
        "id": "72i8LFIGrXYw",
        "colab_type": "code",
        "outputId": "01148d6d-72d7-4130-af32-214df61b0fac",
        "colab": {
          "base_uri": "https://localhost:8080/",
          "height": 34
        }
      },
      "source": [
        "%%R\n",
        "# example using the caret package\n",
        "library(caret)\n",
        "sensitivity(sms_results$predict_type, sms_results$actual_type, positive = \"spam\")\n",
        "specificity(sms_results$predict_type, sms_results$actual_type, negative = \"ham\")"
      ],
      "execution_count": 0,
      "outputs": [
        {
          "output_type": "stream",
          "text": [
            "UsageError: Cell magic `%%R` not found.\n"
          ],
          "name": "stderr"
        }
      ]
    },
    {
      "cell_type": "markdown",
      "metadata": {
        "id": "TtbQWBiBrw9J",
        "colab_type": "text"
      },
      "source": [
        "Maybe interpretation of Sens and Spec here from p. 329."
      ]
    },
    {
      "cell_type": "markdown",
      "metadata": {
        "id": "bIsgQCrmsf62",
        "colab_type": "text"
      },
      "source": [
        "In the following section two new measures will be introduced: precision and recall. When looking at their formulae, the similarity with specificity and sensitivity become quickly apparent. However, the formulae and the interpretations are slightly different. **Precision** can be regarded as a measure that displays how often the model is correct when predicting the **positive** class. Therefore, a precise model predicts the positive class only, if it is very confident about its decision. When applying the SMS filter, a high precision would mean that the model is only filtering and deleting messages that are actually spam. The formula is the following: precision = TP / (TP + FP)"
      ]
    },
    {
      "cell_type": "code",
      "metadata": {
        "id": "6-65dmRI0kmA",
        "colab_type": "code",
        "outputId": "a687a80f-45cd-4a3e-e584-ce99d79f80a0",
        "colab": {
          "base_uri": "https://localhost:8080/",
          "height": 34
        }
      },
      "source": [
        "%%R\n",
        "#Using the numbers from the confusion matrix\n",
        "prec <- 152 / (152 + 4)\n",
        "prec"
      ],
      "execution_count": 0,
      "outputs": [
        {
          "output_type": "stream",
          "text": [
            "[1] 0.974359\n"
          ],
          "name": "stdout"
        }
      ]
    },
    {
      "cell_type": "markdown",
      "metadata": {
        "id": "x9D5MFxQ21z8",
        "colab_type": "text"
      },
      "source": [
        "This number says that if the model predicts spam, it is in almost 97.5% of the cases correct. \n",
        "The other measure evaluates the completeness of the results. The formula is the same as for sensitivity: recall = TP / (TP + FN), but the interpretation is different. If the SMS model has a high recall, a large fraction of the spam messages are correctly determined. Again, recall can easily be computed by using the confusion matrix:"
      ]
    },
    {
      "cell_type": "code",
      "metadata": {
        "id": "JpYyoLyn4Gzz",
        "colab_type": "code",
        "outputId": "80d52e42-598c-4f40-d1ef-2861462ecf66",
        "colab": {
          "base_uri": "https://localhost:8080/",
          "height": 34
        }
      },
      "source": [
        "%%R\n",
        "rec <- 152 / (152 + 31)\n",
        "rec"
      ],
      "execution_count": 0,
      "outputs": [
        {
          "output_type": "stream",
          "text": [
            "[1] 0.8306011\n"
          ],
          "name": "stdout"
        }
      ]
    },
    {
      "cell_type": "markdown",
      "metadata": {
        "id": "SgW3GYoC4Qdk",
        "colab_type": "text"
      },
      "source": [
        "Also by using the `caret ` package, precision and recall can be calculated."
      ]
    },
    {
      "cell_type": "code",
      "metadata": {
        "id": "SI6IGBKb4e6Z",
        "colab_type": "code",
        "outputId": "cc2ae378-6d60-4952-f440-9745f34bfe5f",
        "colab": {
          "base_uri": "https://localhost:8080/",
          "height": 139
        }
      },
      "source": [
        "%%R\n",
        "# example using the caret package\n",
        "library(caret)\n",
        "posPredValue(sms_results$predict_type, sms_results$actual_type, positive = \"spam\")\n",
        "sensitivity(sms_results$predict_type, sms_results$actual_type, positive = \"spam\")"
      ],
      "execution_count": 0,
      "outputs": [
        {
          "output_type": "stream",
          "text": [
            "R[write to console]: Error in library(caret) : there is no package called ‘caret’\n",
            "Calls: <Anonymous> -> <Anonymous> -> withVisible -> library\n",
            "\n"
          ],
          "name": "stderr"
        },
        {
          "output_type": "stream",
          "text": [
            "\n",
            "Error in library(caret) : there is no package called ‘caret’\n",
            "Calls: <Anonymous> -> <Anonymous> -> withVisible -> library\n"
          ],
          "name": "stdout"
        }
      ]
    },
    {
      "cell_type": "markdown",
      "metadata": {
        "id": "QnxS3RXU4_Zl",
        "colab_type": "text"
      },
      "source": [
        "maybe more detailed explanation regarding precision / recall"
      ]
    },
    {
      "cell_type": "markdown",
      "metadata": {
        "id": "4kozjfwu5LdR",
        "colab_type": "text"
      },
      "source": [
        "A further interesting figure is the so-called **F-measure**. The F-measure has the nice feature that one single number subsumizes the previously introduced measures precision and recall and therefore, allows a convenient comparison of models. In the F-measure, precision and recall are combined in particular way of average which is utilized for rates of change and called **harmonic mean**: The formula is the following: F-measure = (2x prec * rec) / (rec + prec)."
      ]
    },
    {
      "cell_type": "code",
      "metadata": {
        "id": "PIx7FQUlM7ar",
        "colab_type": "code",
        "colab": {
          "base_uri": "https://localhost:8080/",
          "height": 34
        },
        "outputId": "e1832d99-79bf-46f4-fe7d-4d0c5096e996"
      },
      "source": [
        "%%R\n",
        "# F-measure\n",
        "f <- (2 * prec * rec) / (prec + rec)\n",
        "f\n",
        "\n",
        "# Alternative calculation by using numbers from confusion matrix\n",
        "f <- (2 * 152) / (2 * 152 + 4 + 31)\n",
        "f"
      ],
      "execution_count": 1,
      "outputs": [
        {
          "output_type": "stream",
          "text": [
            "UsageError: Cell magic `%%R` not found.\n"
          ],
          "name": "stderr"
        }
      ]
    },
    {
      "cell_type": "markdown",
      "metadata": {
        "id": "kelnN2O1PONc",
        "colab_type": "text"
      },
      "source": [
        "So far, only \"numbers\" have been introduced, but it is also possible to visualize performance by aid of **ROC curves** (receiver operating characteristic curve) for instance. Different models have different strenghts and weaknesses and even if they have the same accuracy it is possible that their decisions and their confidence varies greatly Typically, the y-axis of the ROC curve represents the TP-rate and the x-axis represents the FP-rate (= 1 - specificity). Hence, by using ROC curves it is possible to get a deeper understanding of tradeoffs between models with distinct characteristics. To create a ROC curve, the `pRoc` package is needed. "
      ]
    },
    {
      "cell_type": "code",
      "metadata": {
        "id": "KRJXyKUYTZY7",
        "colab_type": "code",
        "colab": {
          "base_uri": "https://localhost:8080/",
          "height": 34
        },
        "outputId": "1e89ca9f-d900-4bf5-9681-18ecaf262d9a"
      },
      "source": [
        "%%R\n",
        "## Visualizing Performance Tradeoffs ----\n",
        "library(pROC)\n",
        "sms_roc <- roc(sms_results$actual_type, sms_results$prob_spam)\n"
      ],
      "execution_count": 2,
      "outputs": [
        {
          "output_type": "stream",
          "text": [
            "UsageError: Cell magic `%%R` not found.\n"
          ],
          "name": "stderr"
        }
      ]
    }
  ]
}